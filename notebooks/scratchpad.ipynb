{
 "cells": [
  {
   "cell_type": "code",
   "execution_count": 131,
   "metadata": {},
   "outputs": [],
   "source": [
    "# P: {u'y': 48, u'x': 124}\n",
    "# B: {u'y': 85, u'x': 240}"
   ]
  },
  {
   "cell_type": "code",
   "execution_count": 132,
   "metadata": {},
   "outputs": [],
   "source": [
    "import numpy as np\n",
    "import cv2\n",
    "import matplotlib.pyplot as plt\n",
    "import json\n",
    "import math"
   ]
  },
  {
   "cell_type": "code",
   "execution_count": 133,
   "metadata": {},
   "outputs": [],
   "source": [
    "p=json.loads(\"{\\\"y\\\": 48, \\\"x\\\": 124}\")\n",
    "b=json.loads(\"{\\\"y\\\": 85, \\\"x\\\": 240}\")"
   ]
  },
  {
   "cell_type": "code",
   "execution_count": 134,
   "metadata": {},
   "outputs": [
    {
     "data": {
      "text/plain": [
       "<matplotlib.image.AxesImage at 0x7f3e0ea5f910>"
      ]
     },
     "execution_count": 134,
     "metadata": {},
     "output_type": "execute_result"
    },
    {
     "data": {
      "image/png": "[encoded data removed]",
      "text/plain": [
       "<Figure size 432x288 with 1 Axes>"
      ]
     },
     "metadata": {},
     "output_type": "display_data"
    }
   ],
   "source": [
    "# Create a black image\n",
    "img = np.zeros((640,480,3), np.uint8)\n",
    "\n",
    "# Draw a diagonal blue line with thickness of 5 px\n",
    "res=cv2.line(img,(p['x'],p['y']),(b['x'],b['y']),(255,0,0),1)\n",
    "res=cv2.line(img, (p['x'],p['y']),(p['x'],b['y']),(255,0,0),1)\n",
    "res=cv2.line(img, (p['x'],b['y']),(b['x'],b['y']),(255,0,0),1)\n",
    "\n",
    "plt.imshow(img[:150,100:250,:])"
   ]
  },
  {
   "cell_type": "code",
   "execution_count": 135,
   "metadata": {},
   "outputs": [],
   "source": [
    "# find the horizontal and vertical distances between puck and bot\n",
    "dx = float(b['x']) - float(p['x'])\n",
    "dy = float(b['y']) - float(p['y'])"
   ]
  },
  {
   "cell_type": "code",
   "execution_count": 136,
   "metadata": {},
   "outputs": [],
   "source": [
    "#Get the hypotenuse\n",
    "d = math.hypot(dx, dy)"
   ]
  },
  {
   "cell_type": "code",
   "execution_count": 141,
   "metadata": {},
   "outputs": [],
   "source": [
    "#calculate the change to the position\n",
    "cx = 50*dx/d\n",
    "cy = 50*dy/d"
   ]
  },
  {
   "cell_type": "code",
   "execution_count": 142,
   "metadata": {},
   "outputs": [],
   "source": [
    "new_bot = b"
   ]
  },
  {
   "cell_type": "code",
   "execution_count": 143,
   "metadata": {},
   "outputs": [],
   "source": [
    "new_bot['x'] -= cx\n",
    "new_bot['y'] -= cy"
   ]
  },
  {
   "cell_type": "code",
   "execution_count": 144,
   "metadata": {},
   "outputs": [
    {
     "data": {
      "text/plain": [
       "<matplotlib.image.AxesImage at 0x7f3e0e9bd690>"
      ]
     },
     "execution_count": 144,
     "metadata": {},
     "output_type": "execute_result"
    },
    {
     "data": {
      "image/png": "[encoded data removed]",
      "text/plain": [
       "<Figure size 432x288 with 1 Axes>"
      ]
     },
     "metadata": {},
     "output_type": "display_data"
    }
   ],
   "source": [
    "# Draw a diagonal blue line with thickness of 5 px\n",
    "res=cv2.line(img,(p['x'],p['y']),(int(new_bot['x']),int(new_bot['y'])),(0,255,0),1)\n",
    "res=cv2.line(img, (p['x'],p['y']),(p['x'],int(new_bot['y'])),(0,255,0),1)\n",
    "res=cv2.line(img, (p['x'],int(new_bot['y'])),(int(new_bot['x']),int(new_bot['y'])),(0,255,0),1)\n",
    "\n",
    "plt.imshow(img[:150,100:250,:])"
   ]
  },
  {
   "cell_type": "code",
   "execution_count": null,
   "metadata": {},
   "outputs": [],
   "source": []
  }
 ],
 "metadata": {
  "kernelspec": {
   "display_name": "Python 2",
   "language": "python",
   "name": "python2"
  },
  "language_info": {
   "codemirror_mode": {
    "name": "ipython",
    "version": 2
   },
   "file_extension": ".py",
   "mimetype": "text/x-python",
   "name": "python",
   "nbconvert_exporter": "python",
   "pygments_lexer": "ipython2",
   "version": "2.7.12"
  }
 },
 "nbformat": 4,
 "nbformat_minor": 2
}
