{
 "cells": [
  {
   "cell_type": "code",
   "execution_count": 1,
   "metadata": {},
   "outputs": [],
   "source": [
    "import numpy as np\n",
    "import cv2\n",
    "import matplotlib.pyplot as plt\n",
    "import redis\n",
    "import time\n",
    "import json\n",
    "import math"
   ]
  },
  {
   "cell_type": "code",
   "execution_count": 2,
   "metadata": {},
   "outputs": [],
   "source": [
    "r = redis.StrictRedis(host='localhost', port=6379, db=0)\n",
    "p = r.pubsub(ignore_subscribe_messages=True)"
   ]
  },
  {
   "cell_type": "code",
   "execution_count": 3,
   "metadata": {},
   "outputs": [],
   "source": [
    "def meet_the_puck(puck_state, bot_state):\n",
    "    speed = 5\n",
    "    p = json.loads(puck_state)\n",
    "    b = json.loads(bot_state)\n",
    "\n",
    "    #find horiz and vertical distances between puck and bot\n",
    "    dx = float(b['x']) - float(p['x'])\n",
    "    dy = float(b['y']) - float(p['y'])\n",
    "    \n",
    "    # todo: \n",
    "    #   if puck is behind bot, do not go towards puck, go around.\n",
    "        \n",
    "    \n",
    "    #get the hypotenuse\n",
    "    d = math.hypot(dx, dy)\n",
    "    \n",
    "    if d > 100:\n",
    "        speed = 10\n",
    "    \n",
    "    if abs(d) >5:\n",
    "        # calculate the change to the position\n",
    "        cx = speed * dx/d\n",
    "        cy = speed * dy/d\n",
    "        \n",
    "        new_b = b\n",
    "        new_b['x'] -= cx\n",
    "        new_b['y'] -= cy\n",
    "        \n",
    "        r.set(\"machine-state-bot\", json.dumps(new_b))\n",
    "        r.publish('state-changed', True)"
   ]
  },
  {
   "cell_type": "code",
   "execution_count": 4,
   "metadata": {},
   "outputs": [],
   "source": [
    "p.subscribe('state-changed')"
   ]
  },
  {
   "cell_type": "code",
   "execution_count": null,
   "metadata": {},
   "outputs": [],
   "source": [
    "# event loop for bot\n",
    "while True:\n",
    "    message = p.get_message()\n",
    "    if message:\n",
    "        if message['channel'] == 'state-changed':\n",
    "            puck_state = r.get('machine-state-puck')\n",
    "            bot_state = r.get('machine-state-bot')\n",
    "            meet_the_puck(puck_state, bot_state)\n",
    "        time.sleep(0.015)"
   ]
  },
  {
   "cell_type": "code",
   "execution_count": null,
   "metadata": {},
   "outputs": [],
   "source": []
  }
 ],
 "metadata": {
  "kernelspec": {
   "display_name": "Python 2",
   "language": "python",
   "name": "python2"
  },
  "language_info": {
   "codemirror_mode": {
    "name": "ipython",
    "version": 2
   },
   "file_extension": ".py",
   "mimetype": "text/x-python",
   "name": "python",
   "nbconvert_exporter": "python",
   "pygments_lexer": "ipython2",
   "version": "2.7.12"
  }
 },
 "nbformat": 4,
 "nbformat_minor": 2
}
