{
 "cells": [
  {
   "cell_type": "code",
   "execution_count": 21,
   "metadata": {},
   "outputs": [],
   "source": [
    "import cv2\n",
    "import time"
   ]
  },
  {
   "cell_type": "code",
   "execution_count": 22,
   "metadata": {},
   "outputs": [
    {
     "data": {
      "text/plain": [
       "True"
      ]
     },
     "execution_count": 22,
     "metadata": {},
     "output_type": "execute_result"
    }
   ],
   "source": [
    "video = cv2.VideoCapture(1)\n",
    "video.set(cv2.CAP_PROP_FRAME_HEIGHT,340)\n",
    "video.set(cv2.CAP_PROP_FRAME_HEIGHT,220)\n",
    "video.set(cv2.CAP_PROP_FPS,120)"
   ]
  },
  {
   "cell_type": "code",
   "execution_count": 23,
   "metadata": {},
   "outputs": [
    {
     "name": "stdout",
     "output_type": "stream",
     "text": [
      "Frames per second using video.get(cv2.CAP_PROP_FPS) : {0} 30.0\n"
     ]
    }
   ],
   "source": [
    "fps = video.get(cv2.CAP_PROP_FPS)\n",
    "print \"Frames per second using video.get(cv2.CAP_PROP_FPS) : {0}\",fps"
   ]
  },
  {
   "cell_type": "code",
   "execution_count": 24,
   "metadata": {},
   "outputs": [
    {
     "name": "stdout",
     "output_type": "stream",
     "text": [
      "Capturing 480 frames\n",
      "Time taken : 16.3208680153 seconds\n",
      "Estimated frames per second : 29.4102004593\n"
     ]
    }
   ],
   "source": [
    " # Number of frames to capture\n",
    "num_frames = 480;\n",
    "\n",
    "\n",
    "print \"Capturing {0} frames\".format(num_frames)\n",
    "\n",
    "# Start time\n",
    "start = time.time()\n",
    "\n",
    "# Grab a few frames\n",
    "for i in xrange(0, num_frames) :\n",
    "    ret, frame = video.read()\n",
    "\n",
    "\n",
    "# End time\n",
    "end = time.time()\n",
    "\n",
    "# Time elapsed\n",
    "seconds = end - start\n",
    "print \"Time taken : {0} seconds\".format(seconds)\n",
    "\n",
    "# Calculate frames per second\n",
    "fps  = num_frames / seconds;\n",
    "print \"Estimated frames per second : {0}\".format(fps);\n",
    "\n",
    "# Release video\n",
    "video.release()"
   ]
  },
  {
   "cell_type": "code",
   "execution_count": null,
   "metadata": {},
   "outputs": [],
   "source": []
  }
 ],
 "metadata": {
  "kernelspec": {
   "display_name": "Python 2",
   "language": "python",
   "name": "python2"
  },
  "language_info": {
   "codemirror_mode": {
    "name": "ipython",
    "version": 2
   },
   "file_extension": ".py",
   "mimetype": "text/x-python",
   "name": "python",
   "nbconvert_exporter": "python",
   "pygments_lexer": "ipython2",
   "version": "2.7.12"
  }
 },
 "nbformat": 4,
 "nbformat_minor": 2
}
